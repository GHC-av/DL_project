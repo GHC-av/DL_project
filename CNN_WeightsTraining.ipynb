{
  "nbformat": 4,
  "nbformat_minor": 0,
  "metadata": {
    "colab": {
      "name": "CNN_WeightsTraining.ipynb",
      "provenance": [],
      "collapsed_sections": [],
      "authorship_tag": "ABX9TyMZW3+HL4e5UsTZUKaupor9",
      "include_colab_link": true
    },
    "kernelspec": {
      "display_name": "Python 3",
      "name": "python3"
    },
    "accelerator": "GPU"
  },
  "cells": [
    {
      "cell_type": "markdown",
      "metadata": {
        "id": "view-in-github",
        "colab_type": "text"
      },
      "source": [
        "<a href=\"https://colab.research.google.com/github/GHC-av/DL_project/blob/main/CNN_WeightsTraining.ipynb\" target=\"_parent\"><img src=\"https://colab.research.google.com/assets/colab-badge.svg\" alt=\"Open In Colab\"/></a>"
      ]
    },
    {
      "cell_type": "markdown",
      "metadata": {
        "id": "17AuLYvZk0oh"
      },
      "source": [
        "# Deep Learning - Final Project\r\n",
        "## CNN Weights Training"
      ]
    },
    {
      "cell_type": "code",
      "metadata": {
        "id": "fdMymC90zg2b",
        "colab": {
          "base_uri": "https://localhost:8080/"
        },
        "outputId": "826efb52-26a4-46cd-ccbe-d0a6613be35e"
      },
      "source": [
        "from google.colab import drive\n",
        "drive.mount('/content/drive')"
      ],
      "execution_count": null,
      "outputs": [
        {
          "output_type": "stream",
          "text": [
            "Mounted at /content/drive\n"
          ],
          "name": "stdout"
        }
      ]
    },
    {
      "cell_type": "code",
      "metadata": {
        "id": "0xjk7h6Az3No"
      },
      "source": [
        "import cv2\n",
        "import os\n",
        "import matplotlib as mpl\n",
        "import matplotlib.pyplot as plt\n",
        "import numpy as np\n",
        "import tensorflow as tf\n",
        "import seaborn as sns\n",
        "import keras\n",
        "from keras.models import Sequential\n",
        "from keras import layers\n",
        "from keras import models\n",
        "import sklearn\n",
        "from sklearn.metrics import confusion_matrix\n",
        "from mlxtend.plotting import plot_confusion_matrix\n",
        "#from keras.preprocessing.image import array_to_img\n",
        "from keras.applications import DenseNet121\n",
        "from keras.preprocessing.image import ImageDataGenerator\n",
        "#from keras.preprocessing import image_dataset_from_directory"
      ],
      "execution_count": null,
      "outputs": []
    },
    {
      "cell_type": "code",
      "metadata": {
        "id": "ZKiHV7CoqrDx"
      },
      "source": [
        "%matplotlib inline\n",
        "import pandas as pd"
      ],
      "execution_count": null,
      "outputs": []
    },
    {
      "cell_type": "code",
      "metadata": {
        "id": "0WadkDY80wTi",
        "colab": {
          "base_uri": "https://localhost:8080/"
        },
        "outputId": "65890f78-86cd-49f9-be8a-d7e7f49a8a2d"
      },
      "source": [
        "os.listdir(\"/content/drive/My Drive/CoronaHack\")"
      ],
      "execution_count": null,
      "outputs": [
        {
          "output_type": "execute_result",
          "data": {
            "text/plain": [
              "['Chest_xray_Corona_Metadata.csv',\n",
              " 'Chest_xray_Corona_dataset_Summary.csv',\n",
              " 'archive.zip',\n",
              " 'Coronahack-Chest-XRay-Dataset',\n",
              " 'weight_14nov.h5',\n",
              " 'modelDN_15nov.h5',\n",
              " 'modelCNN_15nov.h5',\n",
              " 'modelCNN_15novV2.h5',\n",
              " 'modelDN_15novV2.h5',\n",
              " 'weightDN_15nov.h5']"
            ]
          },
          "metadata": {
            "tags": []
          },
          "execution_count": 4
        }
      ]
    },
    {
      "cell_type": "markdown",
      "metadata": {
        "id": "PSpqM7tWH8IA"
      },
      "source": [
        "# Data set for transfer learning \n",
        "\n",
        "https://www.kaggle.com/praveengovi/coronahack-chest-xraydataset\n",
        "\n"
      ]
    },
    {
      "cell_type": "code",
      "metadata": {
        "id": "tv-3hUN0dYXM"
      },
      "source": [
        "#!unzip -uq \"/content/drive/My Drive/CoronaHack/archive.zip\" -d \"/content/drive/My Drive/CoronaHack\""
      ],
      "execution_count": null,
      "outputs": []
    },
    {
      "cell_type": "code",
      "metadata": {
        "id": "tnQGYcTjgiTU",
        "colab": {
          "base_uri": "https://localhost:8080/"
        },
        "outputId": "616ca60a-1db3-4565-d717-7ec94dfc2ed2"
      },
      "source": [
        "train_df = pd.read_csv(\"/content/drive/My Drive/CoronaHack/Chest_xray_Corona_Metadata.csv\")\n",
        "train_df.shape"
      ],
      "execution_count": null,
      "outputs": [
        {
          "output_type": "execute_result",
          "data": {
            "text/plain": [
              "(5910, 6)"
            ]
          },
          "metadata": {
            "tags": []
          },
          "execution_count": 6
        }
      ]
    },
    {
      "cell_type": "code",
      "metadata": {
        "id": "zNs2iLI3hdEv",
        "colab": {
          "base_uri": "https://localhost:8080/"
        },
        "outputId": "27417823-261f-4477-d606-1d1d041a20a6"
      },
      "source": [
        "train_df.dropna(how = 'all')\n",
        "train_df.isnull().sum()"
      ],
      "execution_count": null,
      "outputs": [
        {
          "output_type": "execute_result",
          "data": {
            "text/plain": [
              "Unnamed: 0                   0\n",
              "X_ray_image_name             0\n",
              "Label                        0\n",
              "Dataset_type                 0\n",
              "Label_2_Virus_category    5841\n",
              "Label_1_Virus_category    1576\n",
              "dtype: int64"
            ]
          },
          "metadata": {
            "tags": []
          },
          "execution_count": 7
        }
      ]
    },
    {
      "cell_type": "code",
      "metadata": {
        "id": "odXuaM6Bhepf",
        "colab": {
          "base_uri": "https://localhost:8080/"
        },
        "outputId": "37017038-ce9e-4c91-eba7-7069faccce18"
      },
      "source": [
        "train_df.fillna('unknown', inplace=True)\n",
        "train_df.isnull().sum()"
      ],
      "execution_count": null,
      "outputs": [
        {
          "output_type": "execute_result",
          "data": {
            "text/plain": [
              "Unnamed: 0                0\n",
              "X_ray_image_name          0\n",
              "Label                     0\n",
              "Dataset_type              0\n",
              "Label_2_Virus_category    0\n",
              "Label_1_Virus_category    0\n",
              "dtype: int64"
            ]
          },
          "metadata": {
            "tags": []
          },
          "execution_count": 8
        }
      ]
    },
    {
      "cell_type": "code",
      "metadata": {
        "id": "mSaumMsehrJc",
        "colab": {
          "base_uri": "https://localhost:8080/"
        },
        "outputId": "50aecf4b-6a54-4124-f727-50457056ed1c"
      },
      "source": [
        "train = train_df[train_df['Dataset_type'] == 'TRAIN']\n",
        "test = train_df[train_df['Dataset_type'] == 'TEST']\n",
        "\n",
        "#assert train_data.shape[0] + test_data.shape[0] == train_df.shape[0]\n",
        "\n",
        "print(f\"Shape of train data : {train.shape}\")\n",
        "print(f\"Shape of test data : {test.shape}\")\n"
      ],
      "execution_count": null,
      "outputs": [
        {
          "output_type": "stream",
          "text": [
            "Shape of train data : (5286, 6)\n",
            "Shape of test data : (624, 6)\n"
          ],
          "name": "stdout"
        }
      ]
    },
    {
      "cell_type": "code",
      "metadata": {
        "id": "Hk0oyaJcHlks",
        "colab": {
          "base_uri": "https://localhost:8080/",
          "height": 362
        },
        "outputId": "0899eeb9-aa30-4b02-e76b-33b4893e98fb"
      },
      "source": [
        "train.sample(10)"
      ],
      "execution_count": null,
      "outputs": [
        {
          "output_type": "execute_result",
          "data": {
            "text/html": [
              "<div>\n",
              "<style scoped>\n",
              "    .dataframe tbody tr th:only-of-type {\n",
              "        vertical-align: middle;\n",
              "    }\n",
              "\n",
              "    .dataframe tbody tr th {\n",
              "        vertical-align: top;\n",
              "    }\n",
              "\n",
              "    .dataframe thead th {\n",
              "        text-align: right;\n",
              "    }\n",
              "</style>\n",
              "<table border=\"1\" class=\"dataframe\">\n",
              "  <thead>\n",
              "    <tr style=\"text-align: right;\">\n",
              "      <th></th>\n",
              "      <th>Unnamed: 0</th>\n",
              "      <th>X_ray_image_name</th>\n",
              "      <th>Label</th>\n",
              "      <th>Dataset_type</th>\n",
              "      <th>Label_2_Virus_category</th>\n",
              "      <th>Label_1_Virus_category</th>\n",
              "    </tr>\n",
              "  </thead>\n",
              "  <tbody>\n",
              "    <tr>\n",
              "      <th>1308</th>\n",
              "      <td>1308</td>\n",
              "      <td>NORMAL2-IM-1401-0001.jpeg</td>\n",
              "      <td>Normal</td>\n",
              "      <td>TRAIN</td>\n",
              "      <td>unknown</td>\n",
              "      <td>unknown</td>\n",
              "    </tr>\n",
              "    <tr>\n",
              "      <th>593</th>\n",
              "      <td>593</td>\n",
              "      <td>NORMAL2-IM-0394-0001.jpeg</td>\n",
              "      <td>Normal</td>\n",
              "      <td>TRAIN</td>\n",
              "      <td>unknown</td>\n",
              "      <td>unknown</td>\n",
              "    </tr>\n",
              "    <tr>\n",
              "      <th>2938</th>\n",
              "      <td>2938</td>\n",
              "      <td>person25_bacteria_118.jpeg</td>\n",
              "      <td>Pnemonia</td>\n",
              "      <td>TRAIN</td>\n",
              "      <td>unknown</td>\n",
              "      <td>bacteria</td>\n",
              "    </tr>\n",
              "    <tr>\n",
              "      <th>829</th>\n",
              "      <td>829</td>\n",
              "      <td>NORMAL2-IM-0804-0001.jpeg</td>\n",
              "      <td>Normal</td>\n",
              "      <td>TRAIN</td>\n",
              "      <td>unknown</td>\n",
              "      <td>unknown</td>\n",
              "    </tr>\n",
              "    <tr>\n",
              "      <th>1303</th>\n",
              "      <td>1303</td>\n",
              "      <td>NORMAL2-IM-1423-0001.jpeg</td>\n",
              "      <td>Normal</td>\n",
              "      <td>TRAIN</td>\n",
              "      <td>unknown</td>\n",
              "      <td>unknown</td>\n",
              "    </tr>\n",
              "    <tr>\n",
              "      <th>3522</th>\n",
              "      <td>3522</td>\n",
              "      <td>person354_bacteria_1635.jpeg</td>\n",
              "      <td>Pnemonia</td>\n",
              "      <td>TRAIN</td>\n",
              "      <td>unknown</td>\n",
              "      <td>bacteria</td>\n",
              "    </tr>\n",
              "    <tr>\n",
              "      <th>4023</th>\n",
              "      <td>4023</td>\n",
              "      <td>person491_bacteria_2073.jpeg</td>\n",
              "      <td>Pnemonia</td>\n",
              "      <td>TRAIN</td>\n",
              "      <td>unknown</td>\n",
              "      <td>bacteria</td>\n",
              "    </tr>\n",
              "    <tr>\n",
              "      <th>3875</th>\n",
              "      <td>3875</td>\n",
              "      <td>person397_virus_790.jpeg</td>\n",
              "      <td>Pnemonia</td>\n",
              "      <td>TRAIN</td>\n",
              "      <td>unknown</td>\n",
              "      <td>Virus</td>\n",
              "    </tr>\n",
              "    <tr>\n",
              "      <th>2252</th>\n",
              "      <td>2252</td>\n",
              "      <td>person1367_virus_2351.jpeg</td>\n",
              "      <td>Pnemonia</td>\n",
              "      <td>TRAIN</td>\n",
              "      <td>unknown</td>\n",
              "      <td>Virus</td>\n",
              "    </tr>\n",
              "    <tr>\n",
              "      <th>1787</th>\n",
              "      <td>1787</td>\n",
              "      <td>person1186_virus_2022.jpeg</td>\n",
              "      <td>Pnemonia</td>\n",
              "      <td>TRAIN</td>\n",
              "      <td>unknown</td>\n",
              "      <td>Virus</td>\n",
              "    </tr>\n",
              "  </tbody>\n",
              "</table>\n",
              "</div>"
            ],
            "text/plain": [
              "      Unnamed: 0  ... Label_1_Virus_category\n",
              "1308        1308  ...                unknown\n",
              "593          593  ...                unknown\n",
              "2938        2938  ...               bacteria\n",
              "829          829  ...                unknown\n",
              "1303        1303  ...                unknown\n",
              "3522        3522  ...               bacteria\n",
              "4023        4023  ...               bacteria\n",
              "3875        3875  ...                  Virus\n",
              "2252        2252  ...                  Virus\n",
              "1787        1787  ...                  Virus\n",
              "\n",
              "[10 rows x 6 columns]"
            ]
          },
          "metadata": {
            "tags": []
          },
          "execution_count": 10
        }
      ]
    },
    {
      "cell_type": "code",
      "metadata": {
        "id": "dKpvULKzHida",
        "colab": {
          "base_uri": "https://localhost:8080/",
          "height": 362
        },
        "outputId": "368dd321-36ca-403b-f364-9fc6ab82efdf"
      },
      "source": [
        "test.sample(10)"
      ],
      "execution_count": null,
      "outputs": [
        {
          "output_type": "execute_result",
          "data": {
            "text/html": [
              "<div>\n",
              "<style scoped>\n",
              "    .dataframe tbody tr th:only-of-type {\n",
              "        vertical-align: middle;\n",
              "    }\n",
              "\n",
              "    .dataframe tbody tr th {\n",
              "        vertical-align: top;\n",
              "    }\n",
              "\n",
              "    .dataframe thead th {\n",
              "        text-align: right;\n",
              "    }\n",
              "</style>\n",
              "<table border=\"1\" class=\"dataframe\">\n",
              "  <thead>\n",
              "    <tr style=\"text-align: right;\">\n",
              "      <th></th>\n",
              "      <th>Unnamed: 0</th>\n",
              "      <th>X_ray_image_name</th>\n",
              "      <th>Label</th>\n",
              "      <th>Dataset_type</th>\n",
              "      <th>Label_2_Virus_category</th>\n",
              "      <th>Label_1_Virus_category</th>\n",
              "    </tr>\n",
              "  </thead>\n",
              "  <tbody>\n",
              "    <tr>\n",
              "      <th>5708</th>\n",
              "      <td>5731</td>\n",
              "      <td>person100_bacteria_481.jpeg</td>\n",
              "      <td>Pnemonia</td>\n",
              "      <td>TEST</td>\n",
              "      <td>unknown</td>\n",
              "      <td>bacteria</td>\n",
              "    </tr>\n",
              "    <tr>\n",
              "      <th>5813</th>\n",
              "      <td>5836</td>\n",
              "      <td>person44_virus_93.jpeg</td>\n",
              "      <td>Pnemonia</td>\n",
              "      <td>TEST</td>\n",
              "      <td>unknown</td>\n",
              "      <td>Virus</td>\n",
              "    </tr>\n",
              "    <tr>\n",
              "      <th>5573</th>\n",
              "      <td>5596</td>\n",
              "      <td>person147_bacteria_705.jpeg</td>\n",
              "      <td>Pnemonia</td>\n",
              "      <td>TEST</td>\n",
              "      <td>unknown</td>\n",
              "      <td>bacteria</td>\n",
              "    </tr>\n",
              "    <tr>\n",
              "      <th>5321</th>\n",
              "      <td>5344</td>\n",
              "      <td>NORMAL2-IM-0012-0001.jpeg</td>\n",
              "      <td>Normal</td>\n",
              "      <td>TEST</td>\n",
              "      <td>unknown</td>\n",
              "      <td>unknown</td>\n",
              "    </tr>\n",
              "    <tr>\n",
              "      <th>5783</th>\n",
              "      <td>5806</td>\n",
              "      <td>person74_virus_135.jpeg</td>\n",
              "      <td>Pnemonia</td>\n",
              "      <td>TEST</td>\n",
              "      <td>unknown</td>\n",
              "      <td>Virus</td>\n",
              "    </tr>\n",
              "    <tr>\n",
              "      <th>5761</th>\n",
              "      <td>5784</td>\n",
              "      <td>person81_bacteria_398.jpeg</td>\n",
              "      <td>Pnemonia</td>\n",
              "      <td>TEST</td>\n",
              "      <td>unknown</td>\n",
              "      <td>bacteria</td>\n",
              "    </tr>\n",
              "    <tr>\n",
              "      <th>5887</th>\n",
              "      <td>5910</td>\n",
              "      <td>person1660_virus_2869.jpeg</td>\n",
              "      <td>Pnemonia</td>\n",
              "      <td>TEST</td>\n",
              "      <td>unknown</td>\n",
              "      <td>Virus</td>\n",
              "    </tr>\n",
              "    <tr>\n",
              "      <th>5736</th>\n",
              "      <td>5759</td>\n",
              "      <td>person8_virus_27.jpeg</td>\n",
              "      <td>Pnemonia</td>\n",
              "      <td>TEST</td>\n",
              "      <td>unknown</td>\n",
              "      <td>Virus</td>\n",
              "    </tr>\n",
              "    <tr>\n",
              "      <th>5629</th>\n",
              "      <td>5652</td>\n",
              "      <td>person128_bacteria_605.jpeg</td>\n",
              "      <td>Pnemonia</td>\n",
              "      <td>TEST</td>\n",
              "      <td>unknown</td>\n",
              "      <td>bacteria</td>\n",
              "    </tr>\n",
              "    <tr>\n",
              "      <th>5754</th>\n",
              "      <td>5777</td>\n",
              "      <td>person83_bacteria_410.jpeg</td>\n",
              "      <td>Pnemonia</td>\n",
              "      <td>TEST</td>\n",
              "      <td>unknown</td>\n",
              "      <td>bacteria</td>\n",
              "    </tr>\n",
              "  </tbody>\n",
              "</table>\n",
              "</div>"
            ],
            "text/plain": [
              "      Unnamed: 0  ... Label_1_Virus_category\n",
              "5708        5731  ...               bacteria\n",
              "5813        5836  ...                  Virus\n",
              "5573        5596  ...               bacteria\n",
              "5321        5344  ...                unknown\n",
              "5783        5806  ...                  Virus\n",
              "5761        5784  ...               bacteria\n",
              "5887        5910  ...                  Virus\n",
              "5736        5759  ...                  Virus\n",
              "5629        5652  ...               bacteria\n",
              "5754        5777  ...               bacteria\n",
              "\n",
              "[10 rows x 6 columns]"
            ]
          },
          "metadata": {
            "tags": []
          },
          "execution_count": 11
        }
      ]
    },
    {
      "cell_type": "code",
      "metadata": {
        "id": "j7Gf9tHNBlJC",
        "colab": {
          "base_uri": "https://localhost:8080/"
        },
        "outputId": "763bb558-0bd8-4ae5-8cab-46662d853905"
      },
      "source": [
        "train_pn = train.loc[train.Label == 'Pnemonia', 'Label'].count()\n",
        "train_n = train.loc[train.Label == 'Normal', 'Label'].count()\n",
        "\n",
        "print(f\"there are {train_pn} pneumonia cases in the train data set\")\n",
        "print(f\"there are {train_n} normal cases in the train data set\")\n",
        "\n",
        "test_pn = test.loc[test.Label == 'Pnemonia', 'Label'].count()\n",
        "test_n = test.loc[test.Label == 'Normal', 'Label'].count()\n",
        "\n",
        "print(f\"there are {test_pn} pneumonia cases in the test data set\")\n",
        "print(f\"there are {test_n} normal cases in the test data set\")\n",
        "\n"
      ],
      "execution_count": null,
      "outputs": [
        {
          "output_type": "stream",
          "text": [
            "there are 3944 pneumonia cases in the train data set\n",
            "there are 1342 normal cases in the train data set\n",
            "there are 390 pneumonia cases in the test data set\n",
            "there are 234 normal cases in the test data set\n"
          ],
          "name": "stdout"
        }
      ]
    },
    {
      "cell_type": "code",
      "metadata": {
        "id": "yj0zc2JFIhe-"
      },
      "source": [
        "METRICS = [\n",
        "    'accuracy',\n",
        "    tf.keras.metrics.Precision(name='precision'),\n",
        "    tf.keras.metrics.Recall(name='recall')\n",
        "    ]"
      ],
      "execution_count": null,
      "outputs": []
    },
    {
      "cell_type": "code",
      "metadata": {
        "id": "Sniy1hxg0Bj8"
      },
      "source": [
        "train_datagen = ImageDataGenerator(rescale = 1./255,\n",
        "                                   shear_range = 0.2,\n",
        "                                   zoom_range = 0.2,\n",
        "                                   horizontal_flip = True\n",
        "                                   )\n",
        "\n",
        "val_datagen = ImageDataGenerator(rescale = 1./255)"
      ],
      "execution_count": null,
      "outputs": []
    },
    {
      "cell_type": "code",
      "metadata": {
        "id": "GRIYsSJQnl5s"
      },
      "source": [
        "train_path = \"/content/drive/My Drive/CoronaHack/Coronahack-Chest-XRay-Dataset/train\"\n",
        "test_path = \"/content/drive/My Drive/CoronaHack/Coronahack-Chest-XRay-Dataset/test\""
      ],
      "execution_count": null,
      "outputs": []
    },
    {
      "cell_type": "code",
      "metadata": {
        "id": "0yWoY0Ec0Gm2",
        "colab": {
          "base_uri": "https://localhost:8080/"
        },
        "outputId": "6fe714fe-9345-4bab-b56a-856c93c4eff8"
      },
      "source": [
        "img_size = 150\n",
        "batch_size = 32\n",
        "\n",
        "train_set = train_datagen.flow_from_dataframe(\n",
        "    dataframe=train,\n",
        "    directory=train_path,\n",
        "    x_col=\"X_ray_image_name\",\n",
        "    y_col=\"Label\",\n",
        "    target_size=(img_size, img_size),\n",
        "    color_mode=\"rgb\",\n",
        "    class_mode=\"binary\",\n",
        "    batch_size= batch_size,\n",
        "    seed=25,\n",
        "    shuffle=True\n",
        ")\n",
        "\n",
        "val_set = val_datagen.flow_from_dataframe(\n",
        "    dataframe=test,\n",
        "    directory=test_path,\n",
        "    x_col=\"X_ray_image_name\",\n",
        "    y_col=\"Label\",\n",
        "    target_size=(img_size, img_size),\n",
        "    color_mode=\"rgb\",\n",
        "    class_mode=\"binary\",\n",
        "    batch_size= batch_size,\n",
        "    seed=25,\n",
        "    shuffle=True\n",
        ")"
      ],
      "execution_count": null,
      "outputs": [
        {
          "output_type": "stream",
          "text": [
            "Found 5286 validated image filenames belonging to 2 classes.\n",
            "Found 624 validated image filenames belonging to 2 classes.\n"
          ],
          "name": "stdout"
        }
      ]
    },
    {
      "cell_type": "code",
      "metadata": {
        "id": "U15I64810LFP"
      },
      "source": [
        "pre_model = models.Sequential([\n",
        "                    layers.Conv2D(filters=32, kernel_size=3, strides=1, activation=\"relu\",\n",
        "                           input_shape=[img_size,img_size,3]),\n",
        "                    layers.MaxPool2D(pool_size=2, strides=2),\n",
        "                    layers.Conv2D(filters=64, kernel_size=3, strides=1, activation=\"relu\"),\n",
        "                    layers.MaxPool2D(pool_size=2, strides=2),\n",
        "                    layers.Conv2D(filters=128, kernel_size=3, strides=1, activation=\"relu\"),\n",
        "                    layers.MaxPool2D(pool_size=2, strides=2),\n",
        "                    layers.Conv2D(filters=128, kernel_size=3, strides=1, activation=\"relu\"),\n",
        "                    layers.MaxPool2D(pool_size=2, strides=2),\n",
        "                    layers.Flatten(),\n",
        "                    layers.Dropout(rate=0.5),\n",
        "                    layers.Dense(units=512, activation=\"relu\"),\n",
        "                    layers.Dense(units=1, activation=\"sigmoid\")\n",
        "])"
      ],
      "execution_count": null,
      "outputs": []
    },
    {
      "cell_type": "code",
      "metadata": {
        "id": "hSOSmn-X0OcY"
      },
      "source": [
        "pre_model.compile(\n",
        "    optimizer=keras.optimizers.Adam(learning_rate=0.0005),\n",
        "    loss='binary_crossentropy',\n",
        "    metrics=METRICS\n",
        "    )"
      ],
      "execution_count": null,
      "outputs": []
    },
    {
      "cell_type": "code",
      "metadata": {
        "id": "vOLW4fRG0Rn2",
        "colab": {
          "base_uri": "https://localhost:8080/"
        },
        "outputId": "f5e1a140-e14b-4153-d60e-981f1f3b25f9"
      },
      "source": [
        "weight_pn = (1 / train_pn)*(train_pn + train_n)/2.0\n",
        "weight_n = (1 / train_n)*(train_pn + train_n)/2.0\n",
        "\n",
        "# Order of the classes, mapped to the label indices, is alphanumeric\n",
        "class_weight = {0: weight_n, 1: weight_pn}\n",
        "\n",
        "print('Weight for class pneumonia: {:.2f}'.format(weight_pn)) \n",
        "print('Weight for class normal: {:.2f}'.format(weight_n))"
      ],
      "execution_count": null,
      "outputs": [
        {
          "output_type": "stream",
          "text": [
            "Weight for class pneumonia: 0.67\n",
            "Weight for class normal: 1.97\n"
          ],
          "name": "stdout"
        }
      ]
    },
    {
      "cell_type": "code",
      "metadata": {
        "id": "SPpL4lwBtH0U"
      },
      "source": [
        "train_count = train.shape[0]\n",
        "test_count = test.shape[0]"
      ],
      "execution_count": null,
      "outputs": []
    },
    {
      "cell_type": "code",
      "metadata": {
        "id": "1V7mSK-o0Uzr"
      },
      "source": [
        "history = pre_model.fit(train_set,\n",
        "                    steps_per_epoch = train_count // batch_size,\n",
        "                    epochs = 50,\n",
        "                    validation_data = val_set,\n",
        "                    class_weight = class_weight,\n",
        "                    validation_steps = test_count // batch_size\n",
        "                    )\n",
        "\n",
        "pre_model.save_weights('/content/drive/My Drive/CoronaHack/weightCNN.h5')"
      ],
      "execution_count": null,
      "outputs": []
    },
    {
      "cell_type": "code",
      "metadata": {
        "id": "FZJ3ypMMYF0L"
      },
      "source": [
        "#Iterate thru all the layers of the model\r\n",
        "for layer in pre_model.layers:\r\n",
        "    if 'conv' in layer.name:\r\n",
        "        weights, bias= layer.get_weights()\r\n",
        "        \r\n",
        "        #normalize filter values between  0 and 1 for visualization\r\n",
        "        f_min, f_max = weights.min(), weights.max()\r\n",
        "        filters = (weights - f_min) / (f_max - f_min)\r\n",
        "        print(layer.name, filters.shape)\r\n",
        "        print(filters.shape[3])\r\n",
        "        filter_cnt=1\r\n",
        "        \r\n",
        "        #plotting all the filters\r\n",
        "        for i in range(filters.shape[3]):\r\n",
        "            #get the filters\r\n",
        "            filt=filters[:,:,:, i]\r\n",
        "            #plotting each of the channel, color image RGB channels\r\n",
        "            for j in range(filters.shape[0]):\r\n",
        "                ax= plt.subplot(filters.shape[3], filters.shape[0], filter_cnt  )\r\n",
        "                ax.set_xticks([])\r\n",
        "                ax.set_yticks([])\r\n",
        "                plt.imshow(filt[:,:, j])\r\n",
        "                filter_cnt+=1\r\n",
        "        plt.show()"
      ],
      "execution_count": null,
      "outputs": []
    }
  ]
}