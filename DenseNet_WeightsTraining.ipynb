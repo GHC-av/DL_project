{
  "nbformat": 4,
  "nbformat_minor": 0,
  "metadata": {
    "colab": {
      "name": "DenseNet_WeightsTraining.ipynb",
      "provenance": [],
      "collapsed_sections": [],
      "authorship_tag": "ABX9TyNyYtupWerZfMfrew41eePM",
      "include_colab_link": true
    },
    "kernelspec": {
      "display_name": "Python 3",
      "name": "python3"
    },
    "accelerator": "GPU"
  },
  "cells": [
    {
      "cell_type": "markdown",
      "metadata": {
        "id": "view-in-github",
        "colab_type": "text"
      },
      "source": [
        "<a href=\"https://colab.research.google.com/github/GHC-av/DL_project/blob/main/DenseNet_WeightsTraining.ipynb\" target=\"_parent\"><img src=\"https://colab.research.google.com/assets/colab-badge.svg\" alt=\"Open In Colab\"/></a>"
      ]
    },
    {
      "cell_type": "markdown",
      "metadata": {
        "id": "Ewp8ww6elPEM"
      },
      "source": [
        "# Deep Learning - Final Project\r\n",
        "## DenseNet Weights Training"
      ]
    },
    {
      "cell_type": "code",
      "metadata": {
        "id": "fdMymC90zg2b",
        "colab": {
          "base_uri": "https://localhost:8080/"
        },
        "outputId": "9f1d7d97-bab7-4cd0-c49b-56630605d404"
      },
      "source": [
        "from google.colab import drive\n",
        "drive.mount('/content/drive')"
      ],
      "execution_count": null,
      "outputs": [
        {
          "output_type": "stream",
          "text": [
            "Mounted at /content/drive\n"
          ],
          "name": "stdout"
        }
      ]
    },
    {
      "cell_type": "code",
      "metadata": {
        "id": "0xjk7h6Az3No"
      },
      "source": [
        "import cv2\n",
        "import os\n",
        "import matplotlib as mpl\n",
        "import matplotlib.pyplot as plt\n",
        "import numpy as np\n",
        "import tensorflow as tf\n",
        "import seaborn as sns\n",
        "import keras\n",
        "from keras.models import Sequential\n",
        "from keras import layers\n",
        "from keras import models\n",
        "import sklearn\n",
        "from sklearn.metrics import confusion_matrix\n",
        "from mlxtend.plotting import plot_confusion_matrix\n",
        "#from keras.preprocessing.image import array_to_img\n",
        "from keras.applications import DenseNet121\n",
        "from keras.preprocessing.image import ImageDataGenerator\n",
        "#from keras.preprocessing import image_dataset_from_directory\n",
        "from keras.applications import DenseNet121"
      ],
      "execution_count": null,
      "outputs": []
    },
    {
      "cell_type": "code",
      "metadata": {
        "id": "ZKiHV7CoqrDx"
      },
      "source": [
        "%matplotlib inline\n",
        "import pandas as pd"
      ],
      "execution_count": null,
      "outputs": []
    },
    {
      "cell_type": "code",
      "metadata": {
        "id": "0WadkDY80wTi",
        "colab": {
          "base_uri": "https://localhost:8080/"
        },
        "outputId": "bd251964-5d6e-45d1-eb9e-9864b0a0d337"
      },
      "source": [
        "os.listdir(\"/content/drive/My Drive/CoronaHack\")"
      ],
      "execution_count": null,
      "outputs": [
        {
          "output_type": "execute_result",
          "data": {
            "text/plain": [
              "['Chest_xray_Corona_Metadata.csv',\n",
              " 'Chest_xray_Corona_dataset_Summary.csv',\n",
              " 'archive.zip',\n",
              " 'Coronahack-Chest-XRay-Dataset',\n",
              " 'weight_14nov.h5',\n",
              " 'modelDN_15nov.h5',\n",
              " 'modelCNN_15nov.h5',\n",
              " 'modelCNN_15novV2.h5',\n",
              " 'modelDN_15novV2.h5']"
            ]
          },
          "metadata": {
            "tags": []
          },
          "execution_count": 4
        }
      ]
    },
    {
      "cell_type": "markdown",
      "metadata": {
        "id": "PSpqM7tWH8IA"
      },
      "source": [
        "# Data set for transfer learning\n",
        "\n",
        "https://www.kaggle.com/praveengovi/coronahack-chest-xraydataset\n",
        "\n",
        "\n"
      ]
    },
    {
      "cell_type": "code",
      "metadata": {
        "id": "tv-3hUN0dYXM"
      },
      "source": [
        "#!unzip -uq \"/content/drive/My Drive/CoronaHack/archive.zip\" -d \"/content/drive/My Drive/CoronaHack\""
      ],
      "execution_count": null,
      "outputs": []
    },
    {
      "cell_type": "code",
      "metadata": {
        "id": "tnQGYcTjgiTU",
        "colab": {
          "base_uri": "https://localhost:8080/"
        },
        "outputId": "475c411b-58d1-4fdf-81ea-1d37b5a03336"
      },
      "source": [
        "train_df = pd.read_csv(\"/content/drive/My Drive/CoronaHack/Chest_xray_Corona_Metadata.csv\")\n",
        "train_df.shape"
      ],
      "execution_count": null,
      "outputs": [
        {
          "output_type": "execute_result",
          "data": {
            "text/plain": [
              "(5910, 6)"
            ]
          },
          "metadata": {
            "tags": []
          },
          "execution_count": 6
        }
      ]
    },
    {
      "cell_type": "code",
      "metadata": {
        "id": "zNs2iLI3hdEv",
        "colab": {
          "base_uri": "https://localhost:8080/"
        },
        "outputId": "e5cae705-21c5-49b6-dc8c-337e166432e7"
      },
      "source": [
        "train_df.dropna(how = 'all')\n",
        "train_df.isnull().sum()"
      ],
      "execution_count": null,
      "outputs": [
        {
          "output_type": "execute_result",
          "data": {
            "text/plain": [
              "Unnamed: 0                   0\n",
              "X_ray_image_name             0\n",
              "Label                        0\n",
              "Dataset_type                 0\n",
              "Label_2_Virus_category    5841\n",
              "Label_1_Virus_category    1576\n",
              "dtype: int64"
            ]
          },
          "metadata": {
            "tags": []
          },
          "execution_count": 7
        }
      ]
    },
    {
      "cell_type": "code",
      "metadata": {
        "id": "odXuaM6Bhepf",
        "colab": {
          "base_uri": "https://localhost:8080/"
        },
        "outputId": "fee8405c-3858-485a-93c9-ee95688ce0ba"
      },
      "source": [
        "train_df.fillna('unknown', inplace=True)\n",
        "train_df.isnull().sum()"
      ],
      "execution_count": null,
      "outputs": [
        {
          "output_type": "execute_result",
          "data": {
            "text/plain": [
              "Unnamed: 0                0\n",
              "X_ray_image_name          0\n",
              "Label                     0\n",
              "Dataset_type              0\n",
              "Label_2_Virus_category    0\n",
              "Label_1_Virus_category    0\n",
              "dtype: int64"
            ]
          },
          "metadata": {
            "tags": []
          },
          "execution_count": 8
        }
      ]
    },
    {
      "cell_type": "code",
      "metadata": {
        "id": "mSaumMsehrJc",
        "colab": {
          "base_uri": "https://localhost:8080/"
        },
        "outputId": "8beea75a-2578-4c54-d35c-58838c532dcb"
      },
      "source": [
        "train = train_df[train_df['Dataset_type'] == 'TRAIN']\n",
        "test = train_df[train_df['Dataset_type'] == 'TEST']\n",
        "\n",
        "#assert train_data.shape[0] + test_data.shape[0] == train_df.shape[0]\n",
        "\n",
        "print(f\"Shape of train data : {train.shape}\")\n",
        "print(f\"Shape of test data : {test.shape}\")\n"
      ],
      "execution_count": null,
      "outputs": [
        {
          "output_type": "stream",
          "text": [
            "Shape of train data : (5286, 6)\n",
            "Shape of test data : (624, 6)\n"
          ],
          "name": "stdout"
        }
      ]
    },
    {
      "cell_type": "code",
      "metadata": {
        "id": "Hk0oyaJcHlks",
        "colab": {
          "base_uri": "https://localhost:8080/",
          "height": 362
        },
        "outputId": "d5f93df6-2eed-4a37-cb87-1b4bff56f3f4"
      },
      "source": [
        "train.sample(10)"
      ],
      "execution_count": null,
      "outputs": [
        {
          "output_type": "execute_result",
          "data": {
            "text/html": [
              "<div>\n",
              "<style scoped>\n",
              "    .dataframe tbody tr th:only-of-type {\n",
              "        vertical-align: middle;\n",
              "    }\n",
              "\n",
              "    .dataframe tbody tr th {\n",
              "        vertical-align: top;\n",
              "    }\n",
              "\n",
              "    .dataframe thead th {\n",
              "        text-align: right;\n",
              "    }\n",
              "</style>\n",
              "<table border=\"1\" class=\"dataframe\">\n",
              "  <thead>\n",
              "    <tr style=\"text-align: right;\">\n",
              "      <th></th>\n",
              "      <th>Unnamed: 0</th>\n",
              "      <th>X_ray_image_name</th>\n",
              "      <th>Label</th>\n",
              "      <th>Dataset_type</th>\n",
              "      <th>Label_2_Virus_category</th>\n",
              "      <th>Label_1_Virus_category</th>\n",
              "    </tr>\n",
              "  </thead>\n",
              "  <tbody>\n",
              "    <tr>\n",
              "      <th>5161</th>\n",
              "      <td>5161</td>\n",
              "      <td>person921_virus_1578.jpeg</td>\n",
              "      <td>Pnemonia</td>\n",
              "      <td>TRAIN</td>\n",
              "      <td>unknown</td>\n",
              "      <td>Virus</td>\n",
              "    </tr>\n",
              "    <tr>\n",
              "      <th>1643</th>\n",
              "      <td>1643</td>\n",
              "      <td>person1264_bacteria_3222.jpeg</td>\n",
              "      <td>Pnemonia</td>\n",
              "      <td>TRAIN</td>\n",
              "      <td>unknown</td>\n",
              "      <td>bacteria</td>\n",
              "    </tr>\n",
              "    <tr>\n",
              "      <th>4005</th>\n",
              "      <td>4005</td>\n",
              "      <td>person495_virus_1001.jpeg</td>\n",
              "      <td>Pnemonia</td>\n",
              "      <td>TRAIN</td>\n",
              "      <td>unknown</td>\n",
              "      <td>Virus</td>\n",
              "    </tr>\n",
              "    <tr>\n",
              "      <th>5257</th>\n",
              "      <td>5271</td>\n",
              "      <td>5e6dd879fde9502400e58b2f.jpeg</td>\n",
              "      <td>Pnemonia</td>\n",
              "      <td>TRAIN</td>\n",
              "      <td>COVID-19</td>\n",
              "      <td>Virus</td>\n",
              "    </tr>\n",
              "    <tr>\n",
              "      <th>1747</th>\n",
              "      <td>1747</td>\n",
              "      <td>person1214_virus_2059.jpeg</td>\n",
              "      <td>Pnemonia</td>\n",
              "      <td>TRAIN</td>\n",
              "      <td>unknown</td>\n",
              "      <td>Virus</td>\n",
              "    </tr>\n",
              "    <tr>\n",
              "      <th>1211</th>\n",
              "      <td>1211</td>\n",
              "      <td>NORMAL2-IM-1260-0001.jpeg</td>\n",
              "      <td>Normal</td>\n",
              "      <td>TRAIN</td>\n",
              "      <td>unknown</td>\n",
              "      <td>unknown</td>\n",
              "    </tr>\n",
              "    <tr>\n",
              "      <th>2254</th>\n",
              "      <td>2254</td>\n",
              "      <td>person1366_bacteria_3490.jpeg</td>\n",
              "      <td>Pnemonia</td>\n",
              "      <td>TRAIN</td>\n",
              "      <td>unknown</td>\n",
              "      <td>bacteria</td>\n",
              "    </tr>\n",
              "    <tr>\n",
              "      <th>510</th>\n",
              "      <td>510</td>\n",
              "      <td>IM-0644-0001.jpeg</td>\n",
              "      <td>Normal</td>\n",
              "      <td>TRAIN</td>\n",
              "      <td>unknown</td>\n",
              "      <td>unknown</td>\n",
              "    </tr>\n",
              "    <tr>\n",
              "      <th>4387</th>\n",
              "      <td>4387</td>\n",
              "      <td>person542_bacteria_2276.jpeg</td>\n",
              "      <td>Pnemonia</td>\n",
              "      <td>TRAIN</td>\n",
              "      <td>unknown</td>\n",
              "      <td>bacteria</td>\n",
              "    </tr>\n",
              "    <tr>\n",
              "      <th>4304</th>\n",
              "      <td>4304</td>\n",
              "      <td>person563_bacteria_2338.jpeg</td>\n",
              "      <td>Pnemonia</td>\n",
              "      <td>TRAIN</td>\n",
              "      <td>unknown</td>\n",
              "      <td>bacteria</td>\n",
              "    </tr>\n",
              "  </tbody>\n",
              "</table>\n",
              "</div>"
            ],
            "text/plain": [
              "      Unnamed: 0  ... Label_1_Virus_category\n",
              "5161        5161  ...                  Virus\n",
              "1643        1643  ...               bacteria\n",
              "4005        4005  ...                  Virus\n",
              "5257        5271  ...                  Virus\n",
              "1747        1747  ...                  Virus\n",
              "1211        1211  ...                unknown\n",
              "2254        2254  ...               bacteria\n",
              "510          510  ...                unknown\n",
              "4387        4387  ...               bacteria\n",
              "4304        4304  ...               bacteria\n",
              "\n",
              "[10 rows x 6 columns]"
            ]
          },
          "metadata": {
            "tags": []
          },
          "execution_count": 10
        }
      ]
    },
    {
      "cell_type": "code",
      "metadata": {
        "id": "dKpvULKzHida",
        "colab": {
          "base_uri": "https://localhost:8080/",
          "height": 362
        },
        "outputId": "005616f9-6fa0-43aa-8100-e9f0ce1a3443"
      },
      "source": [
        "test.sample(10)"
      ],
      "execution_count": null,
      "outputs": [
        {
          "output_type": "execute_result",
          "data": {
            "text/html": [
              "<div>\n",
              "<style scoped>\n",
              "    .dataframe tbody tr th:only-of-type {\n",
              "        vertical-align: middle;\n",
              "    }\n",
              "\n",
              "    .dataframe tbody tr th {\n",
              "        vertical-align: top;\n",
              "    }\n",
              "\n",
              "    .dataframe thead th {\n",
              "        text-align: right;\n",
              "    }\n",
              "</style>\n",
              "<table border=\"1\" class=\"dataframe\">\n",
              "  <thead>\n",
              "    <tr style=\"text-align: right;\">\n",
              "      <th></th>\n",
              "      <th>Unnamed: 0</th>\n",
              "      <th>X_ray_image_name</th>\n",
              "      <th>Label</th>\n",
              "      <th>Dataset_type</th>\n",
              "      <th>Label_2_Virus_category</th>\n",
              "      <th>Label_1_Virus_category</th>\n",
              "    </tr>\n",
              "  </thead>\n",
              "  <tbody>\n",
              "    <tr>\n",
              "      <th>5329</th>\n",
              "      <td>5352</td>\n",
              "      <td>IM-0102-0001.jpeg</td>\n",
              "      <td>Normal</td>\n",
              "      <td>TEST</td>\n",
              "      <td>unknown</td>\n",
              "      <td>unknown</td>\n",
              "    </tr>\n",
              "    <tr>\n",
              "      <th>5320</th>\n",
              "      <td>5343</td>\n",
              "      <td>NORMAL2-IM-0013-0001.jpeg</td>\n",
              "      <td>Normal</td>\n",
              "      <td>TEST</td>\n",
              "      <td>unknown</td>\n",
              "      <td>unknown</td>\n",
              "    </tr>\n",
              "    <tr>\n",
              "      <th>5814</th>\n",
              "      <td>5837</td>\n",
              "      <td>person43_virus_92.jpeg</td>\n",
              "      <td>Pnemonia</td>\n",
              "      <td>TEST</td>\n",
              "      <td>unknown</td>\n",
              "      <td>Virus</td>\n",
              "    </tr>\n",
              "    <tr>\n",
              "      <th>5439</th>\n",
              "      <td>5462</td>\n",
              "      <td>NORMAL2-IM-0237-0001.jpeg</td>\n",
              "      <td>Normal</td>\n",
              "      <td>TEST</td>\n",
              "      <td>unknown</td>\n",
              "      <td>unknown</td>\n",
              "    </tr>\n",
              "    <tr>\n",
              "      <th>5425</th>\n",
              "      <td>5448</td>\n",
              "      <td>NORMAL2-IM-0273-0001.jpeg</td>\n",
              "      <td>Normal</td>\n",
              "      <td>TEST</td>\n",
              "      <td>unknown</td>\n",
              "      <td>unknown</td>\n",
              "    </tr>\n",
              "    <tr>\n",
              "      <th>5494</th>\n",
              "      <td>5517</td>\n",
              "      <td>NORMAL2-IM-0370-0001.jpeg</td>\n",
              "      <td>Normal</td>\n",
              "      <td>TEST</td>\n",
              "      <td>unknown</td>\n",
              "      <td>unknown</td>\n",
              "    </tr>\n",
              "    <tr>\n",
              "      <th>5823</th>\n",
              "      <td>5846</td>\n",
              "      <td>person38_virus_83.jpeg</td>\n",
              "      <td>Pnemonia</td>\n",
              "      <td>TEST</td>\n",
              "      <td>unknown</td>\n",
              "      <td>Virus</td>\n",
              "    </tr>\n",
              "    <tr>\n",
              "      <th>5433</th>\n",
              "      <td>5456</td>\n",
              "      <td>NORMAL2-IM-0249-0001.jpeg</td>\n",
              "      <td>Normal</td>\n",
              "      <td>TEST</td>\n",
              "      <td>unknown</td>\n",
              "      <td>unknown</td>\n",
              "    </tr>\n",
              "    <tr>\n",
              "      <th>5908</th>\n",
              "      <td>5931</td>\n",
              "      <td>person1633_virus_2829.jpeg</td>\n",
              "      <td>Pnemonia</td>\n",
              "      <td>TEST</td>\n",
              "      <td>unknown</td>\n",
              "      <td>Virus</td>\n",
              "    </tr>\n",
              "    <tr>\n",
              "      <th>5867</th>\n",
              "      <td>5890</td>\n",
              "      <td>person1680_virus_2897.jpeg</td>\n",
              "      <td>Pnemonia</td>\n",
              "      <td>TEST</td>\n",
              "      <td>unknown</td>\n",
              "      <td>Virus</td>\n",
              "    </tr>\n",
              "  </tbody>\n",
              "</table>\n",
              "</div>"
            ],
            "text/plain": [
              "      Unnamed: 0  ... Label_1_Virus_category\n",
              "5329        5352  ...                unknown\n",
              "5320        5343  ...                unknown\n",
              "5814        5837  ...                  Virus\n",
              "5439        5462  ...                unknown\n",
              "5425        5448  ...                unknown\n",
              "5494        5517  ...                unknown\n",
              "5823        5846  ...                  Virus\n",
              "5433        5456  ...                unknown\n",
              "5908        5931  ...                  Virus\n",
              "5867        5890  ...                  Virus\n",
              "\n",
              "[10 rows x 6 columns]"
            ]
          },
          "metadata": {
            "tags": []
          },
          "execution_count": 11
        }
      ]
    },
    {
      "cell_type": "code",
      "metadata": {
        "id": "j7Gf9tHNBlJC",
        "colab": {
          "base_uri": "https://localhost:8080/"
        },
        "outputId": "0baddd9a-96bb-4879-cbe9-4a92287f3735"
      },
      "source": [
        "train_pn = train.loc[train.Label == 'Pnemonia', 'Label'].count()\n",
        "train_n = train.loc[train.Label == 'Normal', 'Label'].count()\n",
        "\n",
        "print(f\"there are {train_pn} pneumonia cases in the train data set\")\n",
        "print(f\"there are {train_n} normal cases in the train data set\")\n",
        "\n",
        "test_pn = test.loc[test.Label == 'Pnemonia', 'Label'].count()\n",
        "test_n = test.loc[test.Label == 'Normal', 'Label'].count()\n",
        "\n",
        "print(f\"there are {test_pn} pneumonia cases in the test data set\")\n",
        "print(f\"there are {test_n} normal cases in the test data set\")\n",
        "\n"
      ],
      "execution_count": null,
      "outputs": [
        {
          "output_type": "stream",
          "text": [
            "there are 3944 pneumonia cases in the train data set\n",
            "there are 1342 normal cases in the train data set\n",
            "there are 390 pneumonia cases in the test data set\n",
            "there are 234 normal cases in the test data set\n"
          ],
          "name": "stdout"
        }
      ]
    },
    {
      "cell_type": "code",
      "metadata": {
        "id": "yj0zc2JFIhe-"
      },
      "source": [
        "METRICS = [\n",
        "    'accuracy',\n",
        "    tf.keras.metrics.Precision(name='precision'),\n",
        "    tf.keras.metrics.Recall(name='recall')\n",
        "    ]"
      ],
      "execution_count": null,
      "outputs": []
    },
    {
      "cell_type": "code",
      "metadata": {
        "id": "Sniy1hxg0Bj8"
      },
      "source": [
        "train_datagen = ImageDataGenerator(rescale = 1./255,\n",
        "                                   shear_range = 0.2,\n",
        "                                   zoom_range = 0.2,\n",
        "                                   horizontal_flip = True\n",
        "                                   )\n",
        "\n",
        "val_datagen = ImageDataGenerator(rescale = 1./255)"
      ],
      "execution_count": null,
      "outputs": []
    },
    {
      "cell_type": "code",
      "metadata": {
        "id": "GRIYsSJQnl5s"
      },
      "source": [
        "train_path = \"/content/drive/My Drive/CoronaHack/Coronahack-Chest-XRay-Dataset/train\"\n",
        "test_path = \"/content/drive/My Drive/CoronaHack/Coronahack-Chest-XRay-Dataset/test\""
      ],
      "execution_count": null,
      "outputs": []
    },
    {
      "cell_type": "code",
      "metadata": {
        "id": "0yWoY0Ec0Gm2",
        "colab": {
          "base_uri": "https://localhost:8080/"
        },
        "outputId": "6ebd4449-6ba1-4974-fa29-48619a9e6def"
      },
      "source": [
        "img_size = 150\n",
        "batch_size = 32\n",
        "\n",
        "train_set = train_datagen.flow_from_dataframe(\n",
        "    dataframe=train,\n",
        "    directory=train_path,\n",
        "    x_col=\"X_ray_image_name\",\n",
        "    y_col=\"Label\",\n",
        "    target_size=(img_size, img_size),\n",
        "    color_mode=\"rgb\",\n",
        "    class_mode=\"binary\",\n",
        "    batch_size= batch_size,\n",
        "    seed=25,\n",
        "    shuffle=True\n",
        ")\n",
        "\n",
        "val_set = val_datagen.flow_from_dataframe(\n",
        "    dataframe=test,\n",
        "    directory=test_path,\n",
        "    x_col=\"X_ray_image_name\",\n",
        "    y_col=\"Label\",\n",
        "    target_size=(img_size, img_size),\n",
        "    color_mode=\"rgb\",\n",
        "    class_mode=\"binary\",\n",
        "    batch_size= batch_size,\n",
        "    seed=25,\n",
        "    shuffle=True\n",
        ")"
      ],
      "execution_count": null,
      "outputs": [
        {
          "output_type": "stream",
          "text": [
            "Found 5286 validated image filenames belonging to 2 classes.\n",
            "Found 624 validated image filenames belonging to 2 classes.\n"
          ],
          "name": "stdout"
        }
      ]
    },
    {
      "cell_type": "code",
      "metadata": {
        "id": "ZRa1eRvAUFUD",
        "colab": {
          "base_uri": "https://localhost:8080/"
        },
        "outputId": "b0d31cad-4d35-4fb3-e77c-406e6bdfab8e"
      },
      "source": [
        "print(train_set.class_indices)\n",
        "print(val_set.class_indices)"
      ],
      "execution_count": null,
      "outputs": [
        {
          "output_type": "stream",
          "text": [
            "{'Normal': 0, 'Pnemonia': 1}\n",
            "{'Normal': 0, 'Pnemonia': 1}\n"
          ],
          "name": "stdout"
        }
      ]
    },
    {
      "cell_type": "code",
      "metadata": {
        "id": "U15I64810LFP",
        "colab": {
          "base_uri": "https://localhost:8080/"
        },
        "outputId": "f8695a17-41a9-466d-a8b0-7d8e8d68ae27"
      },
      "source": [
        "densenet = DenseNet121(\n",
        "    #weights=\"imagenet\",\n",
        "    include_top=False,\n",
        "    input_shape=(img_size,img_size,3),\n",
        "    classes = 2\n",
        ")\n",
        "\n",
        "def build_model():\n",
        "    model = Sequential()\n",
        "    model.add(densenet)\n",
        "    model.add(layers.GlobalAveragePooling2D())\n",
        "    model.add(layers.Dropout(0.6))\n",
        "    model.add(layers.Dense(1, activation='sigmoid'))\n",
        "    model.compile(\n",
        "        optimizer=keras.optimizers.Adam(lr=0.0005),\n",
        "        loss='binary_crossentropy',\n",
        "        metrics=METRICS\n",
        "        )\n",
        "    return model"
      ],
      "execution_count": null,
      "outputs": [
        {
          "output_type": "stream",
          "text": [
            "Downloading data from https://storage.googleapis.com/tensorflow/keras-applications/densenet/densenet121_weights_tf_dim_ordering_tf_kernels_notop.h5\n",
            "29089792/29084464 [==============================] - 0s 0us/step\n"
          ],
          "name": "stdout"
        }
      ]
    },
    {
      "cell_type": "code",
      "metadata": {
        "id": "Cywag08PE8LW",
        "colab": {
          "base_uri": "https://localhost:8080/"
        },
        "outputId": "66212f52-39f7-44c3-9b70-180472beb473"
      },
      "source": [
        "premodel_DN = build_model()\n",
        "premodel_DN.summary()"
      ],
      "execution_count": null,
      "outputs": [
        {
          "output_type": "stream",
          "text": [
            "Model: \"sequential_1\"\n",
            "_________________________________________________________________\n",
            "Layer (type)                 Output Shape              Param #   \n",
            "=================================================================\n",
            "densenet121 (Functional)     (None, 4, 4, 1024)        7037504   \n",
            "_________________________________________________________________\n",
            "global_average_pooling2d_1 ( (None, 1024)              0         \n",
            "_________________________________________________________________\n",
            "dropout_1 (Dropout)          (None, 1024)              0         \n",
            "_________________________________________________________________\n",
            "dense_1 (Dense)              (None, 1)                 1025      \n",
            "=================================================================\n",
            "Total params: 7,038,529\n",
            "Trainable params: 6,954,881\n",
            "Non-trainable params: 83,648\n",
            "_________________________________________________________________\n"
          ],
          "name": "stdout"
        }
      ]
    },
    {
      "cell_type": "code",
      "metadata": {
        "id": "vOLW4fRG0Rn2",
        "colab": {
          "base_uri": "https://localhost:8080/"
        },
        "outputId": "2424d5c6-b19d-4bef-fef7-32b5a0dadd5d"
      },
      "source": [
        "weight_pn = (1 / train_pn)*(train_pn + train_n)/2.0\n",
        "weight_n = (1 / train_n)*(train_pn + train_n)/2.0\n",
        "\n",
        "# Order of the classes, mapped to the label indices, is alphanumeric\n",
        "class_weight = {0: weight_n, 1: weight_pn}\n",
        "\n",
        "print('Weight for class pneumonia: {:.2f}'.format(weight_pn)) \n",
        "print('Weight for class normal: {:.2f}'.format(weight_n))"
      ],
      "execution_count": null,
      "outputs": [
        {
          "output_type": "stream",
          "text": [
            "Weight for class pneumonia: 0.67\n",
            "Weight for class normal: 1.97\n"
          ],
          "name": "stdout"
        }
      ]
    },
    {
      "cell_type": "code",
      "metadata": {
        "id": "SPpL4lwBtH0U"
      },
      "source": [
        "train_count = train.shape[0]\n",
        "test_count = test.shape[0]"
      ],
      "execution_count": null,
      "outputs": []
    },
    {
      "cell_type": "code",
      "metadata": {
        "id": "1V7mSK-o0Uzr",
        "colab": {
          "base_uri": "https://localhost:8080/"
        },
        "outputId": "93f5217d-fcd0-40a2-8634-0e580c52594b"
      },
      "source": [
        "history = premodel_DN.fit(train_set,\n",
        "                    #steps_per_epoch = train_count // batch_size,\n",
        "                    epochs = 50,\n",
        "                    validation_data = val_set,\n",
        "                    class_weight = class_weight,\n",
        "                    #validation_steps = test_count // batch_size\n",
        "                    )\n",
        "\n",
        "premodel_DN.save_weights('/content/drive/My Drive/CoronaHack/weightDN.h5')"
      ],
      "execution_count": null,
      "outputs": [
        {
          "output_type": "stream",
          "text": [
            "Epoch 1/50\n",
            "166/166 [==============================] - 1186s 7s/step - loss: 0.2405 - accuracy: 0.9077 - precision: 0.9737 - recall: 0.9006 - val_loss: 1.1333 - val_accuracy: 0.8782 - val_precision: 0.8568 - val_recall: 0.9667\n",
            "Epoch 2/50\n",
            "166/166 [==============================] - 91s 550ms/step - loss: 0.1234 - accuracy: 0.9529 - precision: 0.9838 - recall: 0.9526 - val_loss: 1.0074 - val_accuracy: 0.7147 - val_precision: 0.6866 - val_recall: 1.0000\n",
            "Epoch 3/50\n",
            "166/166 [==============================] - 90s 543ms/step - loss: 0.0992 - accuracy: 0.9612 - precision: 0.9877 - recall: 0.9599 - val_loss: 0.3475 - val_accuracy: 0.8558 - val_precision: 0.9688 - val_recall: 0.7949\n",
            "Epoch 4/50\n",
            "166/166 [==============================] - 89s 538ms/step - loss: 0.0888 - accuracy: 0.9675 - precision: 0.9894 - recall: 0.9668 - val_loss: 2.2391 - val_accuracy: 0.6394 - val_precision: 0.6341 - val_recall: 1.0000\n",
            "Epoch 5/50\n",
            "166/166 [==============================] - 89s 539ms/step - loss: 0.0905 - accuracy: 0.9665 - precision: 0.9901 - recall: 0.9648 - val_loss: 0.4660 - val_accuracy: 0.8349 - val_precision: 0.9832 - val_recall: 0.7487\n",
            "Epoch 6/50\n",
            "166/166 [==============================] - 92s 553ms/step - loss: 0.0857 - accuracy: 0.9673 - precision: 0.9922 - recall: 0.9637 - val_loss: 0.2826 - val_accuracy: 0.8990 - val_precision: 0.8674 - val_recall: 0.9897\n",
            "Epoch 7/50\n",
            "166/166 [==============================] - 90s 541ms/step - loss: 0.0576 - accuracy: 0.9786 - precision: 0.9953 - recall: 0.9759 - val_loss: 1.4025 - val_accuracy: 0.6474 - val_precision: 0.9885 - val_recall: 0.4410\n",
            "Epoch 8/50\n",
            "166/166 [==============================] - 92s 551ms/step - loss: 0.0664 - accuracy: 0.9714 - precision: 0.9920 - recall: 0.9696 - val_loss: 1.9366 - val_accuracy: 0.7147 - val_precision: 0.6866 - val_recall: 1.0000\n",
            "Epoch 9/50\n",
            "166/166 [==============================] - 90s 543ms/step - loss: 0.0766 - accuracy: 0.9703 - precision: 0.9917 - recall: 0.9683 - val_loss: 0.7194 - val_accuracy: 0.7196 - val_precision: 0.9909 - val_recall: 0.5564\n",
            "Epoch 10/50\n",
            "166/166 [==============================] - 90s 542ms/step - loss: 0.0699 - accuracy: 0.9718 - precision: 0.9909 - recall: 0.9711 - val_loss: 2.1566 - val_accuracy: 0.6955 - val_precision: 0.6724 - val_recall: 1.0000\n",
            "Epoch 11/50\n",
            "166/166 [==============================] - 89s 536ms/step - loss: 0.0516 - accuracy: 0.9815 - precision: 0.9946 - recall: 0.9805 - val_loss: 0.8049 - val_accuracy: 0.7484 - val_precision: 0.7130 - val_recall: 1.0000\n",
            "Epoch 12/50\n",
            "166/166 [==============================] - 89s 538ms/step - loss: 0.0499 - accuracy: 0.9803 - precision: 0.9941 - recall: 0.9795 - val_loss: 0.2226 - val_accuracy: 0.9151 - val_precision: 0.9642 - val_recall: 0.8974\n",
            "Epoch 13/50\n",
            "166/166 [==============================] - 89s 537ms/step - loss: 0.0575 - accuracy: 0.9782 - precision: 0.9938 - recall: 0.9769 - val_loss: 2.9130 - val_accuracy: 0.6298 - val_precision: 0.6280 - val_recall: 1.0000\n",
            "Epoch 14/50\n",
            "166/166 [==============================] - 89s 535ms/step - loss: 0.0628 - accuracy: 0.9737 - precision: 0.9935 - recall: 0.9711 - val_loss: 0.2114 - val_accuracy: 0.9167 - val_precision: 0.9774 - val_recall: 0.8872\n",
            "Epoch 15/50\n",
            "166/166 [==============================] - 89s 535ms/step - loss: 0.0618 - accuracy: 0.9790 - precision: 0.9946 - recall: 0.9772 - val_loss: 3.1606 - val_accuracy: 0.4439 - val_precision: 1.0000 - val_recall: 0.1103\n",
            "Epoch 16/50\n",
            "166/166 [==============================] - 90s 541ms/step - loss: 0.0543 - accuracy: 0.9790 - precision: 0.9941 - recall: 0.9777 - val_loss: 0.2091 - val_accuracy: 0.9135 - val_precision: 0.9330 - val_recall: 0.9282\n",
            "Epoch 17/50\n",
            "166/166 [==============================] - 89s 537ms/step - loss: 0.0450 - accuracy: 0.9837 - precision: 0.9954 - recall: 0.9828 - val_loss: 0.1801 - val_accuracy: 0.9407 - val_precision: 0.9537 - val_recall: 0.9513\n",
            "Epoch 18/50\n",
            "166/166 [==============================] - 89s 536ms/step - loss: 0.0609 - accuracy: 0.9762 - precision: 0.9923 - recall: 0.9757 - val_loss: 0.2908 - val_accuracy: 0.8862 - val_precision: 0.9623 - val_recall: 0.8513\n",
            "Epoch 19/50\n",
            "166/166 [==============================] - 88s 533ms/step - loss: 0.0529 - accuracy: 0.9805 - precision: 0.9956 - recall: 0.9782 - val_loss: 11.8312 - val_accuracy: 0.6282 - val_precision: 0.6270 - val_recall: 1.0000\n",
            "Epoch 20/50\n",
            "166/166 [==============================] - 89s 538ms/step - loss: 0.1262 - accuracy: 0.9482 - precision: 0.9862 - recall: 0.9437 - val_loss: 0.2522 - val_accuracy: 0.9215 - val_precision: 0.9210 - val_recall: 0.9564\n",
            "Epoch 21/50\n",
            "166/166 [==============================] - 89s 534ms/step - loss: 0.0756 - accuracy: 0.9726 - precision: 0.9920 - recall: 0.9711 - val_loss: 0.2060 - val_accuracy: 0.9263 - val_precision: 0.9135 - val_recall: 0.9744\n",
            "Epoch 22/50\n",
            "166/166 [==============================] - 88s 533ms/step - loss: 0.0617 - accuracy: 0.9760 - precision: 0.9938 - recall: 0.9739 - val_loss: 0.2765 - val_accuracy: 0.9022 - val_precision: 0.9687 - val_recall: 0.8718\n",
            "Epoch 23/50\n",
            "166/166 [==============================] - 89s 538ms/step - loss: 0.0588 - accuracy: 0.9767 - precision: 0.9941 - recall: 0.9746 - val_loss: 1.0129 - val_accuracy: 0.7340 - val_precision: 0.9870 - val_recall: 0.5821\n",
            "Epoch 24/50\n",
            "166/166 [==============================] - 89s 534ms/step - loss: 0.0444 - accuracy: 0.9824 - precision: 0.9954 - recall: 0.9810 - val_loss: 0.5750 - val_accuracy: 0.8510 - val_precision: 0.8087 - val_recall: 0.9974\n",
            "Epoch 25/50\n",
            "166/166 [==============================] - 89s 534ms/step - loss: 0.0535 - accuracy: 0.9771 - precision: 0.9941 - recall: 0.9752 - val_loss: 0.1624 - val_accuracy: 0.9407 - val_precision: 0.9380 - val_recall: 0.9692\n",
            "Epoch 26/50\n",
            "166/166 [==============================] - 89s 534ms/step - loss: 0.0388 - accuracy: 0.9839 - precision: 0.9959 - recall: 0.9825 - val_loss: 1.1392 - val_accuracy: 0.7596 - val_precision: 0.7222 - val_recall: 1.0000\n",
            "Epoch 27/50\n",
            "166/166 [==============================] - 89s 536ms/step - loss: 0.0763 - accuracy: 0.9754 - precision: 0.9933 - recall: 0.9736 - val_loss: 1.2008 - val_accuracy: 0.7660 - val_precision: 0.9959 - val_recall: 0.6282\n",
            "Epoch 28/50\n",
            "166/166 [==============================] - 89s 535ms/step - loss: 0.0500 - accuracy: 0.9801 - precision: 0.9943 - recall: 0.9790 - val_loss: 0.1617 - val_accuracy: 0.9407 - val_precision: 0.9337 - val_recall: 0.9744\n",
            "Epoch 29/50\n",
            "166/166 [==============================] - 89s 536ms/step - loss: 0.0394 - accuracy: 0.9866 - precision: 0.9962 - recall: 0.9858 - val_loss: 0.2105 - val_accuracy: 0.9247 - val_precision: 0.9525 - val_recall: 0.9256\n",
            "Epoch 30/50\n",
            "166/166 [==============================] - 89s 539ms/step - loss: 0.0423 - accuracy: 0.9830 - precision: 0.9959 - recall: 0.9812 - val_loss: 1.1306 - val_accuracy: 0.7516 - val_precision: 0.9916 - val_recall: 0.6077\n",
            "Epoch 31/50\n",
            "166/166 [==============================] - 89s 536ms/step - loss: 0.0479 - accuracy: 0.9805 - precision: 0.9948 - recall: 0.9790 - val_loss: 0.1761 - val_accuracy: 0.9471 - val_precision: 0.9710 - val_recall: 0.9436\n",
            "Epoch 32/50\n",
            "166/166 [==============================] - 89s 535ms/step - loss: 0.0327 - accuracy: 0.9892 - precision: 0.9974 - recall: 0.9881 - val_loss: 0.4154 - val_accuracy: 0.8974 - val_precision: 0.8606 - val_recall: 0.9974\n",
            "Epoch 33/50\n",
            "166/166 [==============================] - 89s 535ms/step - loss: 0.0266 - accuracy: 0.9898 - precision: 0.9969 - recall: 0.9894 - val_loss: 0.7928 - val_accuracy: 0.7981 - val_precision: 0.9925 - val_recall: 0.6821\n",
            "Epoch 34/50\n",
            "166/166 [==============================] - 90s 544ms/step - loss: 0.0399 - accuracy: 0.9869 - precision: 0.9967 - recall: 0.9858 - val_loss: 0.8287 - val_accuracy: 0.8510 - val_precision: 0.8100 - val_recall: 0.9949\n",
            "Epoch 35/50\n",
            "166/166 [==============================] - 89s 539ms/step - loss: 0.0473 - accuracy: 0.9815 - precision: 0.9946 - recall: 0.9805 - val_loss: 0.1456 - val_accuracy: 0.9471 - val_precision: 0.9496 - val_recall: 0.9667\n",
            "Epoch 36/50\n",
            "166/166 [==============================] - 91s 546ms/step - loss: 0.0268 - accuracy: 0.9904 - precision: 0.9972 - recall: 0.9899 - val_loss: 1.6821 - val_accuracy: 0.7003 - val_precision: 0.6759 - val_recall: 1.0000\n",
            "Epoch 37/50\n",
            "166/166 [==============================] - 89s 538ms/step - loss: 0.0335 - accuracy: 0.9877 - precision: 0.9946 - recall: 0.9888 - val_loss: 0.6451 - val_accuracy: 0.8029 - val_precision: 0.7602 - val_recall: 1.0000\n",
            "Epoch 38/50\n",
            "166/166 [==============================] - 89s 535ms/step - loss: 0.0245 - accuracy: 0.9904 - precision: 0.9977 - recall: 0.9894 - val_loss: 2.6161 - val_accuracy: 0.6635 - val_precision: 0.6500 - val_recall: 1.0000\n",
            "Epoch 39/50\n",
            "166/166 [==============================] - 89s 536ms/step - loss: 0.0219 - accuracy: 0.9913 - precision: 0.9977 - recall: 0.9906 - val_loss: 0.3516 - val_accuracy: 0.9071 - val_precision: 0.9637 - val_recall: 0.8846\n",
            "Epoch 40/50\n",
            "166/166 [==============================] - 89s 537ms/step - loss: 0.0468 - accuracy: 0.9818 - precision: 0.9951 - recall: 0.9805 - val_loss: 5.2602 - val_accuracy: 0.6250 - val_precision: 0.6250 - val_recall: 1.0000\n",
            "Epoch 41/50\n",
            "166/166 [==============================] - 90s 539ms/step - loss: 0.0289 - accuracy: 0.9894 - precision: 0.9980 - recall: 0.9878 - val_loss: 3.9555 - val_accuracy: 0.6298 - val_precision: 0.6280 - val_recall: 1.0000\n",
            "Epoch 42/50\n",
            "166/166 [==============================] - 89s 535ms/step - loss: 0.0873 - accuracy: 0.9694 - precision: 0.9907 - recall: 0.9681 - val_loss: 1.6341 - val_accuracy: 0.5625 - val_precision: 0.9835 - val_recall: 0.3051\n",
            "Epoch 43/50\n",
            "166/166 [==============================] - 89s 536ms/step - loss: 0.0910 - accuracy: 0.9644 - precision: 0.9888 - recall: 0.9632 - val_loss: 0.6580 - val_accuracy: 0.7997 - val_precision: 0.9926 - val_recall: 0.6846\n",
            "Epoch 44/50\n",
            "166/166 [==============================] - 89s 537ms/step - loss: 0.0566 - accuracy: 0.9803 - precision: 0.9936 - recall: 0.9800 - val_loss: 0.3236 - val_accuracy: 0.9071 - val_precision: 0.8722 - val_recall: 0.9974\n",
            "Epoch 45/50\n",
            "166/166 [==============================] - 89s 536ms/step - loss: 0.0391 - accuracy: 0.9866 - precision: 0.9967 - recall: 0.9853 - val_loss: 0.1860 - val_accuracy: 0.9391 - val_precision: 0.9251 - val_recall: 0.9821\n",
            "Epoch 46/50\n",
            "166/166 [==============================] - 89s 535ms/step - loss: 0.0401 - accuracy: 0.9839 - precision: 0.9951 - recall: 0.9833 - val_loss: 0.3473 - val_accuracy: 0.8878 - val_precision: 0.9706 - val_recall: 0.8462\n",
            "Epoch 47/50\n",
            "166/166 [==============================] - 89s 536ms/step - loss: 0.0257 - accuracy: 0.9905 - precision: 0.9980 - recall: 0.9894 - val_loss: 0.3620 - val_accuracy: 0.8798 - val_precision: 0.9619 - val_recall: 0.8410\n",
            "Epoch 48/50\n",
            "166/166 [==============================] - 89s 535ms/step - loss: 0.0187 - accuracy: 0.9928 - precision: 0.9977 - recall: 0.9926 - val_loss: 8.7719 - val_accuracy: 0.6250 - val_precision: 0.6250 - val_recall: 1.0000\n",
            "Epoch 49/50\n",
            "166/166 [==============================] - 89s 534ms/step - loss: 0.0410 - accuracy: 0.9841 - precision: 0.9956 - recall: 0.9830 - val_loss: 1.0810 - val_accuracy: 0.7708 - val_precision: 0.9768 - val_recall: 0.6487\n",
            "Epoch 50/50\n",
            "166/166 [==============================] - 89s 535ms/step - loss: 0.0258 - accuracy: 0.9900 - precision: 0.9967 - recall: 0.9899 - val_loss: 1.8027 - val_accuracy: 0.7628 - val_precision: 0.7257 - val_recall: 0.9974\n"
          ],
          "name": "stdout"
        }
      ]
    }
  ]
}